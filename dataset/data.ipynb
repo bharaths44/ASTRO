{
 "cells": [
  {
   "cell_type": "code",
   "execution_count": 1,
   "metadata": {},
   "outputs": [
    {
     "name": "stdout",
     "output_type": "stream",
     "text": [
      "Number of unique stores: 10\n",
      "Number of unique items: 50\n"
     ]
    }
   ],
   "source": [
    "import pandas as pd\n",
    "\n",
    "train_data = pd.read_csv(\"train.csv\")\n",
    "# Display the number of unique stores\n",
    "num_stores = train_data['store'].nunique()\n",
    "print(f'Number of unique stores: {num_stores}')\n",
    "\n",
    "# Display the number of unique items\n",
    "num_items = train_data['item'].nunique()\n",
    "print(f'Number of unique items: {num_items}')"
   ]
  },
  {
   "cell_type": "code",
   "execution_count": 5,
   "metadata": {},
   "outputs": [
    {
     "name": "stdout",
     "output_type": "stream",
     "text": [
      "Number of unique items per store:\n",
      "store\n",
      "1     50\n",
      "2     50\n",
      "3     50\n",
      "4     50\n",
      "5     50\n",
      "6     50\n",
      "7     50\n",
      "8     50\n",
      "9     50\n",
      "10    50\n",
      "Name: item, dtype: int64\n",
      "\n",
      "Frequency of each item in each store:\n",
      "     store  item  No.of Dates\n",
      "0        1     1         1826\n",
      "1        1     2         1826\n",
      "2        1     3         1826\n",
      "3        1     4         1826\n",
      "4        1     5         1826\n",
      "..     ...   ...          ...\n",
      "495     10    46         1826\n",
      "496     10    47         1826\n",
      "497     10    48         1826\n",
      "498     10    49         1826\n",
      "499     10    50         1826\n",
      "\n",
      "[500 rows x 3 columns]\n"
     ]
    }
   ],
   "source": [
    "\n",
    "# Group by store and count the number of unique items in each store\n",
    "items_per_store = train_data.groupby(\"store\")[\"item\"].nunique()\n",
    "\n",
    "# Print the number of unique items per store\n",
    "print(\"Number of unique items per store:\")\n",
    "print(items_per_store)\n",
    "\n",
    "# Group by store and item to get the frequency of each item in each store\n",
    "item_frequency_per_store = train_data.groupby([\"store\", \"item\"]).size().reset_index(name='No.of Dates')\n",
    "\n",
    "# Print the frequency of each item in each store\n",
    "print(\"\\nFrequency of each item in each store:\")\n",
    "print(item_frequency_per_store)"
   ]
  }
 ],
 "metadata": {
  "kernelspec": {
   "display_name": ".venv",
   "language": "python",
   "name": "python3"
  },
  "language_info": {
   "codemirror_mode": {
    "name": "ipython",
    "version": 3
   },
   "file_extension": ".py",
   "mimetype": "text/x-python",
   "name": "python",
   "nbconvert_exporter": "python",
   "pygments_lexer": "ipython3",
   "version": "3.12.7"
  }
 },
 "nbformat": 4,
 "nbformat_minor": 2
}
